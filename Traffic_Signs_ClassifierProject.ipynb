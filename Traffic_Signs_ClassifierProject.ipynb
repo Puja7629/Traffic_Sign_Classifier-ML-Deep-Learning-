{
 "cells": [
  {
   "cell_type": "code",
   "execution_count": 1,
   "metadata": {
    "colab": {
     "base_uri": "https://localhost:8080/",
     "height": 98
    },
    "colab_type": "code",
    "id": "U_rQNJkC5sH7",
    "outputId": "76851035-bd0f-4a15-8c11-5a08970fa013"
   },
   "outputs": [
    {
     "name": "stderr",
     "output_type": "stream",
     "text": [
      "Cloning into 'german-traffic-signs'...\n",
      "fatal: early EOF\n",
      "fatal: the remote end hung up unexpectedly\n",
      "fatal: unpack-objects failed\n",
      "error: RPC failed; curl 92 HTTP/2 stream 0 was not closed cleanly: INTERNAL_ERROR (err 2)\n"
     ]
    }
   ],
   "source": [
    "!git clone https://bitbucket.org/jadslim/german-traffic-signs"
   ]
  },
  {
   "cell_type": "code",
   "execution_count": 2,
   "metadata": {
    "colab": {
     "base_uri": "https://localhost:8080/",
     "height": 33
    },
    "colab_type": "code",
    "id": "eRzJHmcV5o9x",
    "outputId": "36b4de1f-9f64-4001-909d-e7b55bb92b81"
   },
   "outputs": [
    {
     "name": "stderr",
     "output_type": "stream",
     "text": [
      "C:\\ProgramData\\Anaconda3\\lib\\site-packages\\h5py\\__init__.py:36: FutureWarning: Conversion of the second argument of issubdtype from `float` to `np.floating` is deprecated. In future, it will be treated as `np.float64 == np.dtype(float).type`.\n",
      "  from ._conv import register_converters as _register_converters\n",
      "Using TensorFlow backend.\n"
     ]
    }
   ],
   "source": [
    "import numpy as np\n",
    "import matplotlib.pyplot as plt\n",
    "import keras\n",
    "from keras.models import Sequential\n",
    "from keras.layers import Dense\n",
    "from keras.optimizers import Adam\n",
    "from keras.utils.np_utils import to_categorical\n",
    "from keras.layers import Dropout, Flatten\n",
    "from keras.layers.convolutional import Conv2D, MaxPooling2D\n",
    "import pickle as pkl"
   ]
  },
  {
   "cell_type": "code",
   "execution_count": 3,
   "metadata": {
    "colab": {},
    "colab_type": "code",
    "id": "SBar-iAV5o-N"
   },
   "outputs": [],
   "source": [
    "np.random.seed(0)"
   ]
  },
  {
   "cell_type": "code",
   "execution_count": 4,
   "metadata": {
    "colab": {
     "base_uri": "https://localhost:8080/",
     "height": 33
    },
    "colab_type": "code",
    "id": "bjAfAwUp6kiP",
    "outputId": "00a44eba-2ace-43d3-ef7f-c1218dcece51"
   },
   "outputs": [
    {
     "name": "stderr",
     "output_type": "stream",
     "text": [
      "'ls' is not recognized as an internal or external command,\n",
      "operable program or batch file.\n"
     ]
    }
   ],
   "source": [
    "!ls german-traffic-signs"
   ]
  },
  {
   "cell_type": "code",
   "execution_count": 5,
   "metadata": {
    "colab": {},
    "colab_type": "code",
    "id": "bmK11yXA6oLE"
   },
   "outputs": [
    {
     "ename": "FileNotFoundError",
     "evalue": "[Errno 2] No such file or directory: 'german-traffic-signs/train.p'",
     "output_type": "error",
     "traceback": [
      "\u001b[1;31m---------------------------------------------------------------------------\u001b[0m",
      "\u001b[1;31mFileNotFoundError\u001b[0m                         Traceback (most recent call last)",
      "\u001b[1;32m<ipython-input-5-5ff48c380b0b>\u001b[0m in \u001b[0;36m<module>\u001b[1;34m()\u001b[0m\n\u001b[1;32m----> 1\u001b[1;33m \u001b[1;32mwith\u001b[0m \u001b[0mopen\u001b[0m\u001b[1;33m(\u001b[0m\u001b[1;34m'german-traffic-signs/train.p'\u001b[0m\u001b[1;33m,\u001b[0m\u001b[1;34m'rb'\u001b[0m\u001b[1;33m)\u001b[0m \u001b[1;32mas\u001b[0m \u001b[0mf\u001b[0m\u001b[1;33m:\u001b[0m\u001b[1;33m\u001b[0m\u001b[0m\n\u001b[0m\u001b[0;32m      2\u001b[0m   \u001b[0mtrain_data\u001b[0m \u001b[1;33m=\u001b[0m \u001b[0mpkl\u001b[0m\u001b[1;33m.\u001b[0m\u001b[0mload\u001b[0m\u001b[1;33m(\u001b[0m\u001b[0mf\u001b[0m\u001b[1;33m)\u001b[0m\u001b[1;33m\u001b[0m\u001b[0m\n\u001b[0;32m      3\u001b[0m \u001b[1;33m\u001b[0m\u001b[0m\n\u001b[0;32m      4\u001b[0m \u001b[1;32mwith\u001b[0m \u001b[0mopen\u001b[0m\u001b[1;33m(\u001b[0m\u001b[1;34m'german-traffic-signs/test.p'\u001b[0m\u001b[1;33m,\u001b[0m\u001b[1;34m'rb'\u001b[0m\u001b[1;33m)\u001b[0m \u001b[1;32mas\u001b[0m \u001b[0mf\u001b[0m\u001b[1;33m:\u001b[0m\u001b[1;33m\u001b[0m\u001b[0m\n\u001b[0;32m      5\u001b[0m   \u001b[0mtest_data\u001b[0m \u001b[1;33m=\u001b[0m \u001b[0mpkl\u001b[0m\u001b[1;33m.\u001b[0m\u001b[0mload\u001b[0m\u001b[1;33m(\u001b[0m\u001b[0mf\u001b[0m\u001b[1;33m)\u001b[0m\u001b[1;33m\u001b[0m\u001b[0m\n",
      "\u001b[1;31mFileNotFoundError\u001b[0m: [Errno 2] No such file or directory: 'german-traffic-signs/train.p'"
     ]
    }
   ],
   "source": [
    "with open('german-traffic-signs/train.p','rb') as f:\n",
    "  train_data = pkl.load(f)\n",
    "  \n",
    "with open('german-traffic-signs/test.p','rb') as f:\n",
    "  test_data = pkl.load(f)\n",
    "  \n",
    "with open('german-traffic-signs/valid.p','rb') as f:\n",
    "  val_data = pkl.load(f)\n",
    "  \n",
    "X_train,y_train = train_data['features'],train_data['labels']\n",
    "X_test,y_test = test_data['features'],test_data['labels']\n",
    "X_val,y_val = val_data['features'],val_data['labels']"
   ]
  },
  {
   "cell_type": "code",
   "execution_count": null,
   "metadata": {
    "colab": {},
    "colab_type": "code",
    "id": "YRhUzspKQiVU"
   },
   "outputs": [],
   "source": [
    "import pandas as pd\n",
    "import random\n",
    "\n",
    "data = pd.read_csv('german-traffic-signs/signnames.csv')"
   ]
  },
  {
   "cell_type": "code",
   "execution_count": null,
   "metadata": {
    "colab": {
     "base_uri": "https://localhost:8080/",
     "height": 3636
    },
    "colab_type": "code",
    "id": "2ZmZN5rmSU2T",
    "outputId": "95237b58-2760-42ea-f1e2-e8f925b5dabe"
   },
   "outputs": [],
   "source": [
    "num_of_samples=[]\n",
    " \n",
    "cols = 5\n",
    "num_classes = 43\n",
    "fig, axs = plt.subplots(nrows=num_classes, ncols=cols, figsize=(50,50))\n",
    "fig.tight_layout()\n",
    "\n",
    "for i in range(cols):\n",
    "    for j,raw in data.iterrows():\n",
    "      x_selected = X_train[y_train == j]\n",
    "      axs[j][i].imshow(x_selected[random.randint(0,(len(x_selected) - 1)), :, :], cmap=plt.get_cmap('gray'))\n",
    "      axs[j][i].axis(\"off\")\n",
    "      if i == 2:\n",
    "        axs[j][i].set_title(str(j)+'-'+raw['SignName'])\n",
    "        num_of_samples.append(len(x_selected))"
   ]
  },
  {
   "cell_type": "code",
   "execution_count": null,
   "metadata": {
    "colab": {
     "base_uri": "https://localhost:8080/",
     "height": 331
    },
    "colab_type": "code",
    "id": "ONrU5LTATEgF",
    "outputId": "d6d62989-9ed5-4f48-e754-ca251bf682ab"
   },
   "outputs": [],
   "source": [
    "print(num_of_samples)\n",
    "plt.figure(figsize=(12, 4))\n",
    "plt.bar(range(0, num_classes), num_of_samples)\n",
    "plt.title(\"Distribution of the train dataset\")\n",
    "plt.xlabel(\"Class number\")\n",
    "plt.ylabel(\"Number of images\")\n",
    "plt.show()"
   ]
  },
  {
   "cell_type": "code",
   "execution_count": null,
   "metadata": {
    "colab": {
     "base_uri": "https://localhost:8080/",
     "height": 380
    },
    "colab_type": "code",
    "id": "ecY1NBIeTpwq",
    "outputId": "31401aa3-c8fe-4726-a8c7-aa15e18fbb59"
   },
   "outputs": [],
   "source": [
    "\n",
    "import cv2\n",
    "\n",
    "plt.imshow(X_train[1000])\n",
    "plt.axis(\"off\")\n",
    "print(X_train[1000].shape)\n",
    "print(y_train[1000])"
   ]
  },
  {
   "cell_type": "code",
   "execution_count": null,
   "metadata": {
    "colab": {},
    "colab_type": "code",
    "id": "g5WuO2RGjv7W"
   },
   "outputs": [],
   "source": [
    "def grayscale(img):\n",
    "    img = cv2.cvtColor(img, cv2.COLOR_BGR2GRAY)\n",
    "    return img"
   ]
  },
  {
   "cell_type": "code",
   "execution_count": null,
   "metadata": {
    "colab": {
     "base_uri": "https://localhost:8080/",
     "height": 363
    },
    "colab_type": "code",
    "id": "zIyy2IQ8j5wW",
    "outputId": "130720eb-4cbf-4860-e167-dd1a84759efd"
   },
   "outputs": [],
   "source": [
    "img = grayscale(X_train[1000])\n",
    "plt.imshow(img)\n",
    "plt.axis(\"off\")\n",
    "print(img.shape)"
   ]
  },
  {
   "cell_type": "code",
   "execution_count": null,
   "metadata": {
    "colab": {},
    "colab_type": "code",
    "id": "HXg8xU23j8bS"
   },
   "outputs": [],
   "source": [
    "def equalize(img):\n",
    "    img = cv2.equalizeHist(img)\n",
    "    return img"
   ]
  },
  {
   "cell_type": "code",
   "execution_count": null,
   "metadata": {
    "colab": {
     "base_uri": "https://localhost:8080/",
     "height": 363
    },
    "colab_type": "code",
    "id": "8JWFTAP3j_K6",
    "outputId": "66056b94-9a0e-46de-8048-c1cda4be9915"
   },
   "outputs": [],
   "source": [
    "img = equalize(img)\n",
    "plt.imshow(img)\n",
    "plt.axis(\"off\")\n",
    "print(img.shape)"
   ]
  },
  {
   "cell_type": "code",
   "execution_count": null,
   "metadata": {
    "colab": {},
    "colab_type": "code",
    "id": "a98v6ESQkBvR"
   },
   "outputs": [],
   "source": [
    "def preprocess(img):\n",
    "    img = grayscale(img)\n",
    "    img = equalize(img)\n",
    "    img = img/255\n",
    "    return img"
   ]
  },
  {
   "cell_type": "code",
   "execution_count": null,
   "metadata": {
    "colab": {},
    "colab_type": "code",
    "id": "1W41nlcGkE0n"
   },
   "outputs": [],
   "source": [
    "X_train = np.array(list(map(preprocess, X_train)))\n",
    "X_test = np.array(list(map(preprocess, X_test)))\n",
    "X_val = np.array(list(map(preprocess, X_val)))"
   ]
  },
  {
   "cell_type": "code",
   "execution_count": null,
   "metadata": {
    "colab": {
     "base_uri": "https://localhost:8080/",
     "height": 363
    },
    "colab_type": "code",
    "id": "Ah_-b4hlkI3P",
    "outputId": "f269b293-2419-4ffa-8ed7-b8de07e1e7d4"
   },
   "outputs": [],
   "source": [
    "plt.imshow(X_train[random.randint(0, len(X_train) - 1)])\n",
    "plt.axis('off')\n",
    "print(X_train.shape)"
   ]
  },
  {
   "cell_type": "code",
   "execution_count": null,
   "metadata": {
    "colab": {},
    "colab_type": "code",
    "id": "ohWoHAtzkaxZ"
   },
   "outputs": [],
   "source": [
    "X_train = X_train.reshape(34799, 32, 32, 1)\n",
    "X_test = X_test.reshape(12630, 32, 32, 1)\n",
    "X_val = X_val.reshape(4410, 32, 32, 1)"
   ]
  },
  {
   "cell_type": "code",
   "execution_count": null,
   "metadata": {
    "colab": {},
    "colab_type": "code",
    "id": "5iaI0lwCDUNx"
   },
   "outputs": [],
   "source": [
    "from keras.preprocessing.image import ImageDataGenerator\n",
    "datagen = ImageDataGenerator(width_shift_range=0.1,\n",
    "                            height_shift_range=0.1,\n",
    "                            zoom_range=0.2,\n",
    "                            shear_range=0.1,\n",
    "                            rotation_range=10)\n",
    "datagen.fit(X_train)"
   ]
  },
  {
   "cell_type": "code",
   "execution_count": null,
   "metadata": {
    "colab": {},
    "colab_type": "code",
    "id": "oC9cXl8mkmRR"
   },
   "outputs": [],
   "source": [
    "y_train = to_categorical(y_train,43)\n",
    "y_test = to_categorical(y_test,43)\n",
    "y_val = to_categorical(y_val,43)"
   ]
  },
  {
   "cell_type": "code",
   "execution_count": null,
   "metadata": {
    "colab": {},
    "colab_type": "code",
    "id": "tbGV5XRHndWf"
   },
   "outputs": [],
   "source": [
    "def lenet():\n",
    "  model = Sequential()\n",
    "  model.add(Conv2D(30,(5,5),input_shape=(32, 32, 1),activation='relu'))\n",
    "  model.add(MaxPooling2D(pool_size=(2,2)))\n",
    "  model.add(Conv2D(15,(3,3),activation='relu'))\n",
    "  model.add(MaxPooling2D(pool_size=(2,2)))\n",
    "  model.add(Flatten())\n",
    "  model.add(Dense(500,activation='relu'))\n",
    "  model.add(Dropout(0.5))\n",
    "  model.add(Dense(num_classes,activation='softmax'))\n",
    "  model.compile(Adam(lr=0.01),loss = 'categorical_crossentropy',metrics=['accuracy'])\n",
    "  return model"
   ]
  },
  {
   "cell_type": "code",
   "execution_count": null,
   "metadata": {
    "colab": {},
    "colab_type": "code",
    "id": "3q5s1Cc-o8aY"
   },
   "outputs": [],
   "source": [
    "lnet = lenet()"
   ]
  },
  {
   "cell_type": "code",
   "execution_count": null,
   "metadata": {
    "colab": {
     "base_uri": "https://localhost:8080/",
     "height": 391
    },
    "colab_type": "code",
    "id": "Rs6WnDLspIfF",
    "outputId": "aab0f6db-78f5-466c-e2b5-65ca89686f94"
   },
   "outputs": [],
   "source": [
    "lnet.summary()"
   ]
  },
  {
   "cell_type": "code",
   "execution_count": null,
   "metadata": {
    "colab": {
     "base_uri": "https://localhost:8080/",
     "height": 358
    },
    "colab_type": "code",
    "id": "MsA-OMs4pK0f",
    "outputId": "82ba0c32-8905-4407-a910-217af929c853"
   },
   "outputs": [],
   "source": [
    "history=lnet.fit(X_train,y_train,epochs=10,validation_data=(X_val,y_val),batch_size=400,verbose=1,shuffle=1)"
   ]
  },
  {
   "cell_type": "code",
   "execution_count": null,
   "metadata": {
    "colab": {
     "base_uri": "https://localhost:8080/",
     "height": 392
    },
    "colab_type": "code",
    "id": "EUFr7xi1ptbP",
    "outputId": "4b32cce1-10a4-4fd6-ef8f-6ab929e5c533"
   },
   "outputs": [],
   "source": [
    "plt.plot(history.history['loss'])\n",
    "plt.plot(history.history['val_loss'])\n",
    "plt.legend(['loss','val_loss'])\n",
    "plt.title('Loss')\n",
    "plt.xlabel('epoch')"
   ]
  },
  {
   "cell_type": "code",
   "execution_count": null,
   "metadata": {
    "colab": {
     "base_uri": "https://localhost:8080/",
     "height": 392
    },
    "colab_type": "code",
    "id": "YdQSdx6otPSK",
    "outputId": "c9b3caa2-654e-4fd7-bf27-54bc3711653c"
   },
   "outputs": [],
   "source": [
    "plt.plot(history.history['acc'])\n",
    "plt.plot(history.history['val_acc'])\n",
    "plt.legend(['acc','val_acc'])\n",
    "plt.title('Accuracy')\n",
    "plt.xlabel('epoch')"
   ]
  },
  {
   "cell_type": "code",
   "execution_count": null,
   "metadata": {
    "colab": {
     "base_uri": "https://localhost:8080/",
     "height": 66
    },
    "colab_type": "code",
    "id": "HF73EQQytpeu",
    "outputId": "665a01d4-4318-495d-fbf4-44b8d5cee2da"
   },
   "outputs": [],
   "source": [
    "score = lnet.evaluate(X_test, y_test, verbose=0)\n",
    "print(type(score))\n",
    "print('Test score:', score[0])\n",
    "print('Test accuracy:', score[1])"
   ]
  },
  {
   "cell_type": "code",
   "execution_count": null,
   "metadata": {
    "colab": {},
    "colab_type": "code",
    "id": "xTdm0fjiuQBS"
   },
   "outputs": [],
   "source": [
    "def modified_model():\n",
    "  model = Sequential()\n",
    "  model.add(Conv2D(60,(5,5),input_shape=(32, 32, 1),activation='relu'))\n",
    "  model.add(Conv2D(60,(5,5),activation='relu'))\n",
    "  model.add(MaxPooling2D(pool_size=(2,2)))\n",
    " \n",
    "  \n",
    "  model.add(Conv2D(30,(3,3),activation='relu'))\n",
    "  model.add(Conv2D(30,(3,3),activation='relu'))\n",
    "  model.add(MaxPooling2D(pool_size=(2,2)))\n",
    "  model.add(Dropout(0.5))\n",
    "  \n",
    "  model.add(Flatten())\n",
    "  model.add(Dense(500,activation='relu'))\n",
    "  model.add(Dropout(0.5))\n",
    "  model.add(Dense(num_classes,activation='softmax'))\n",
    "  model.compile(Adam(lr=0.001),loss = 'categorical_crossentropy',metrics=['accuracy'])\n",
    "  return model"
   ]
  },
  {
   "cell_type": "code",
   "execution_count": null,
   "metadata": {
    "colab": {
     "base_uri": "https://localhost:8080/",
     "height": 683
    },
    "colab_type": "code",
    "id": "zLNxH4NXxOdu",
    "outputId": "95411ca6-15d9-4558-9a0c-e42db08060ee"
   },
   "outputs": [],
   "source": [
    "model = modified_model()\n",
    "his =model.fit(X_train,y_train,epochs=20,validation_data=(X_val,y_val),batch_size=400,verbose=1,shuffle=1)"
   ]
  },
  {
   "cell_type": "code",
   "execution_count": null,
   "metadata": {
    "colab": {
     "base_uri": "https://localhost:8080/",
     "height": 66
    },
    "colab_type": "code",
    "id": "wC4ix3HvxTiG",
    "outputId": "8e714e32-2c9c-459f-e5bc-f027c28f451c"
   },
   "outputs": [],
   "source": [
    "score = model.evaluate(X_test, y_test, verbose=0)\n",
    "print(type(score))\n",
    "print('Test score:', score[0])\n",
    "print('Test accuracy:', score[1])"
   ]
  },
  {
   "cell_type": "code",
   "execution_count": null,
   "metadata": {
    "colab": {
     "base_uri": "https://localhost:8080/",
     "height": 392
    },
    "colab_type": "code",
    "id": "3XyOLg0RyFxc",
    "outputId": "0e3d3e8f-4230-4369-8204-1a334cc49326"
   },
   "outputs": [],
   "source": [
    "plt.plot(his.history['loss'])\n",
    "plt.plot(his.history['val_loss'])\n",
    "plt.legend(['loss','val_loss'])\n",
    "plt.title('Loss')\n",
    "plt.xlabel('epoch')"
   ]
  },
  {
   "cell_type": "code",
   "execution_count": null,
   "metadata": {
    "colab": {
     "base_uri": "https://localhost:8080/",
     "height": 392
    },
    "colab_type": "code",
    "id": "56158UuiySbj",
    "outputId": "d84e199b-f0e0-417d-898d-d513b81051bb"
   },
   "outputs": [],
   "source": [
    "plt.plot(his.history['acc'])\n",
    "plt.plot(his.history['val_acc'])\n",
    "plt.legend(['acc','val_acc'])\n",
    "plt.title('Accuracy')\n",
    "plt.xlabel('epoch')"
   ]
  },
  {
   "cell_type": "code",
   "execution_count": null,
   "metadata": {
    "colab": {
     "base_uri": "https://localhost:8080/",
     "height": 367
    },
    "colab_type": "code",
    "id": "Sz7pNr6yzUUJ",
    "outputId": "dbf788cc-abb9-48f3-958d-b1ebd0642e18"
   },
   "outputs": [],
   "source": [
    "import requests\n",
    "from PIL import Image\n",
    "url = 'https://c8.alamy.com/comp/A0RX23/cars-and-automobiles-must-turn-left-ahead-sign-A0RX23.jpg'\n",
    "r = requests.get(url, stream=True)\n",
    "img = Image.open(r.raw)\n",
    "plt.imshow(img, cmap=plt.get_cmap('gray'))"
   ]
  },
  {
   "cell_type": "code",
   "execution_count": null,
   "metadata": {
    "colab": {
     "base_uri": "https://localhost:8080/",
     "height": 363
    },
    "colab_type": "code",
    "id": "A0ulAcWV2R6d",
    "outputId": "f1d2a4a3-db80-4862-8b1a-4b63f883385a"
   },
   "outputs": [],
   "source": [
    "img = np.asarray(img)\n",
    "img = cv2.resize(img, (32, 32))\n",
    "img = preprocess(img)\n",
    "plt.imshow(img, cmap = plt.get_cmap('gray'))\n",
    "print(img.shape)"
   ]
  },
  {
   "cell_type": "code",
   "execution_count": null,
   "metadata": {
    "colab": {
     "base_uri": "https://localhost:8080/",
     "height": 33
    },
    "colab_type": "code",
    "id": "2SO1zbAn21KO",
    "outputId": "ac961bb0-a673-480d-afaf-30aa7a6189b6"
   },
   "outputs": [],
   "source": [
    "img = img.reshape(1, 32, 32, 1)\n",
    "print(\"predicted sign: \"+ str(model.predict_classes(img)))"
   ]
  },
  {
   "cell_type": "code",
   "execution_count": 0,
   "metadata": {
    "colab": {},
    "colab_type": "code",
    "id": "nURRWcFmQFPv"
   },
   "outputs": [],
   "source": [
    "def model():\n",
    "  model = Sequential()\n",
    "  model.add(Conv2D(60,(5,5),input_shape=(32, 32, 1),activation='relu'))\n",
    "  model.add(Conv2D(60,(5,5),activation='relu'))\n",
    "  model.add(MaxPooling2D(pool_size=(2,2)))\n",
    " \n",
    "  \n",
    "  model.add(Conv2D(30,(3,3),activation='relu'))\n",
    "  model.add(Conv2D(30,(3,3),activation='relu'))\n",
    "  model.add(MaxPooling2D(pool_size=(2,2)))\n",
    " # model.add(Dropout(0.5))\n",
    "  \n",
    "  model.add(Flatten())\n",
    "  model.add(Dense(500,activation='relu'))\n",
    "  model.add(Dropout(0.5))\n",
    "  model.add(Dense(num_classes,activation='softmax'))\n",
    "  model.compile(Adam(lr=0.001),loss = 'categorical_crossentropy',metrics=['accuracy'])\n",
    "  return model"
   ]
  },
  {
   "cell_type": "code",
   "execution_count": 0,
   "metadata": {
    "colab": {
     "base_uri": "https://localhost:8080/",
     "height": 342
    },
    "colab_type": "code",
    "id": "ArxMnum-3YRk",
    "outputId": "d97cb15e-ac8f-45f0-a0dd-ca7931bb91dd"
   },
   "outputs": [
    {
     "name": "stdout",
     "output_type": "stream",
     "text": [
      "Epoch 1/10\n",
      "2000/2000 [==============================] - 50s 25ms/step - loss: 0.8794 - acc: 0.7417 - val_loss: 0.1306 - val_acc: 0.9615\n",
      "Epoch 2/10\n",
      "2000/2000 [==============================] - 51s 25ms/step - loss: 0.2245 - acc: 0.9301 - val_loss: 0.0439 - val_acc: 0.9857\n",
      "Epoch 3/10\n",
      "2000/2000 [==============================] - 51s 26ms/step - loss: 0.1476 - acc: 0.9541 - val_loss: 0.0323 - val_acc: 0.9900\n",
      "Epoch 4/10\n",
      "2000/2000 [==============================] - 51s 26ms/step - loss: 0.1190 - acc: 0.9635 - val_loss: 0.0456 - val_acc: 0.9891\n",
      "Epoch 5/10\n",
      "2000/2000 [==============================] - 51s 26ms/step - loss: 0.0966 - acc: 0.9705 - val_loss: 0.0398 - val_acc: 0.9880\n",
      "Epoch 6/10\n",
      "2000/2000 [==============================] - 51s 25ms/step - loss: 0.0870 - acc: 0.9734 - val_loss: 0.0397 - val_acc: 0.9871\n",
      "Epoch 7/10\n",
      "2000/2000 [==============================] - 52s 26ms/step - loss: 0.0767 - acc: 0.9775 - val_loss: 0.0416 - val_acc: 0.9866\n",
      "Epoch 8/10\n",
      "2000/2000 [==============================] - 52s 26ms/step - loss: 0.0697 - acc: 0.9786 - val_loss: 0.0537 - val_acc: 0.9859\n",
      "Epoch 9/10\n",
      "2000/2000 [==============================] - 51s 26ms/step - loss: 0.0675 - acc: 0.9800 - val_loss: 0.0273 - val_acc: 0.9932\n",
      "Epoch 10/10\n",
      "2000/2000 [==============================] - 51s 26ms/step - loss: 0.0640 - acc: 0.9810 - val_loss: 0.0360 - val_acc: 0.9905\n"
     ]
    }
   ],
   "source": [
    "model = model()\n",
    "summ =model.fit_generator(datagen.flow(X_train,y_train,batch_size=50),steps_per_epoch=2000, epochs=10,validation_data=(X_val,y_val),verbose=1,shuffle=1)"
   ]
  },
  {
   "cell_type": "code",
   "execution_count": 0,
   "metadata": {
    "colab": {
     "base_uri": "https://localhost:8080/",
     "height": 66
    },
    "colab_type": "code",
    "id": "4n_DQwsaQ0LO",
    "outputId": "fc4ed1dc-d455-4459-9e27-6f60cf193364"
   },
   "outputs": [
    {
     "name": "stdout",
     "output_type": "stream",
     "text": [
      "<class 'list'>\n",
      "Test score: 0.12412373612280202\n",
      "Test accuracy: 0.9763262074614741\n"
     ]
    }
   ],
   "source": [
    "score = model.evaluate(X_test, y_test, verbose=0)\n",
    "print(type(score))\n",
    "print('Test score:', score[0])\n",
    "print('Test accuracy:', score[1])"
   ]
  },
  {
   "cell_type": "code",
   "execution_count": 0,
   "metadata": {
    "colab": {
     "base_uri": "https://localhost:8080/",
     "height": 392
    },
    "colab_type": "code",
    "id": "zpUTG1NgRhUu",
    "outputId": "4eac8c02-45f1-497c-8de6-947bfdd91305"
   },
   "outputs": [
    {
     "data": {
      "text/plain": [
       "Text(0.5, 0, 'epoch')"
      ]
     },
     "execution_count": 38,
     "metadata": {
      "tags": []
     },
     "output_type": "execute_result"
    },
    {
     "data": {
      "image/png": "[encoded data removed]",
      "text/plain": [
       "<Figure size 576x396 with 1 Axes>"
      ]
     },
     "metadata": {
      "tags": []
     },
     "output_type": "display_data"
    }
   ],
   "source": [
    "plt.plot(his.history['loss'])\n",
    "plt.plot(his.history['val_loss'])\n",
    "plt.legend(['loss','val_loss'])\n",
    "plt.title('Loss')\n",
    "plt.xlabel('epoch')"
   ]
  },
  {
   "cell_type": "code",
   "execution_count": 0,
   "metadata": {
    "colab": {
     "base_uri": "https://localhost:8080/",
     "height": 392
    },
    "colab_type": "code",
    "id": "2pKVFtRZRiAe",
    "outputId": "63c62d90-04f3-40d8-bca3-95fd0988f13c"
   },
   "outputs": [
    {
     "data": {
      "text/plain": [
       "Text(0.5, 0, 'epoch')"
      ]
     },
     "execution_count": 39,
     "metadata": {
      "tags": []
     },
     "output_type": "execute_result"
    },
    {
     "data": {
      "image/png": "[encoded data removed]",
      "text/plain": [
       "<Figure size 576x396 with 1 Axes>"
      ]
     },
     "metadata": {
      "tags": []
     },
     "output_type": "display_data"
    }
   ],
   "source": [
    "plt.plot(his.history['acc'])\n",
    "plt.plot(his.history['val_acc'])\n",
    "plt.legend(['acc','val_acc'])\n",
    "plt.title('Accuracy')\n",
    "plt.xlabel('epoch')"
   ]
  },
  {
   "cell_type": "code",
   "execution_count": 0,
   "metadata": {
    "colab": {
     "base_uri": "https://localhost:8080/",
     "height": 180
    },
    "colab_type": "code",
    "id": "Ww3jlfinRifp",
    "outputId": "8c8c88ae-96d6-4c53-d1b5-feb1fca379ca"
   },
   "outputs": [
    {
     "name": "stdout",
     "output_type": "stream",
     "text": [
      "(32, 32)\n",
      "predicted sign: [12]\n",
      "(32, 32)\n",
      "predicted sign: [1]\n",
      "(32, 32)\n",
      "predicted sign: [23]\n",
      "(32, 32)\n",
      "predicted sign: [13]\n",
      "(32, 32)\n",
      "predicted sign: [29]\n"
     ]
    }
   ],
   "source": [
    "import requests\n",
    "from PIL import Image\n",
    "url = ['https://c8.alamy.com/comp/A0RX23/cars-and-automobiles-must-turn-left-ahead-sign-A0RX23.jpg', \n",
    "       'https://c8.alamy.com/comp/G667W0/road-sign-speed-limit-30-kmh-zone-passau-bavaria-germany-G667W0.jpg',\n",
    "       'https://previews.123rf.com/images/bwylezich/bwylezich1608/bwylezich160800375/64914157-german-road-sign-slippery-road.jpg',\n",
    "       'https://previews.123rf.com/images/pejo/pejo0907/pejo090700003/5155701-german-traffic-sign-no-205-give-way.jpg',\n",
    "       'https://c8.alamy.com/comp/J2MRAJ/german-road-sign-bicycles-crossing-J2MRAJ.jpg']\n",
    "for i in url:\n",
    "  r = requests.get(i, stream=True)\n",
    "  img = Image.open(r.raw)\n",
    "  plt.imshow(img, cmap=plt.get_cmap('gray'))\n",
    "  plt.close()\n",
    "  \n",
    "  img = np.asarray(img)\n",
    "  img = cv2.resize(img, (32, 32))\n",
    "  img = preprocess(img)\n",
    "  plt.imshow(img, cmap = plt.get_cmap('gray'))\n",
    "  plt.close()\n",
    "  print(img.shape)\n",
    "  img = img.reshape(1, 32, 32, 1)\n",
    "  print(\"predicted sign: \"+ str(model.predict_classes(img)))"
   ]
  },
  {
   "cell_type": "code",
   "execution_count": 0,
   "metadata": {
    "colab": {},
    "colab_type": "code",
    "id": "7ZrRdfYvW931"
   },
   "outputs": [],
   "source": []
  }
 ],
 "metadata": {
  "accelerator": "GPU",
  "colab": {
   "name": "Traffic_Signs_ClassifierProject.ipynb",
   "provenance": [],
   "version": "0.3.2"
  },
  "kernelspec": {
   "display_name": "Python 3",
   "language": "python",
   "name": "python3"
  },
  "language_info": {
   "codemirror_mode": {
    "name": "ipython",
    "version": 3
   },
   "file_extension": ".py",
   "mimetype": "text/x-python",
   "name": "python",
   "nbconvert_exporter": "python",
   "pygments_lexer": "ipython3",
   "version": "3.6.5"
  }
 },
 "nbformat": 4,
 "nbformat_minor": 1
}
